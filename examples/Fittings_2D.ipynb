{
 "cells": [
  {
   "cell_type": "code",
   "execution_count": null,
   "metadata": {},
   "outputs": [],
   "source": [
    "%matplotlib inline\n",
    "import matplotlib as mpl\n",
    "mpl.rcParams['figure.dpi'] = 100\n",
    "\n",
    "import matplotlib.pyplot as plt\n",
    "from matplotlib import colors, cm\n",
    "from mpl_toolkits.axes_grid1 import make_axes_locatable\n",
    "\n",
    "# importing the workhorse\n",
    "import numpy as np\n",
    "import pandas as pd\n",
    "\n",
    "\n",
    "from lmfit import Minimizer, Parameters, report_fit\n",
    "\n",
    "from SACLA_utils import *\n",
    "from fit2D import *"
   ]
  },
  {
   "cell_type": "code",
   "execution_count": null,
   "metadata": {},
   "outputs": [],
   "source": []
  },
  {
   "cell_type": "markdown",
   "metadata": {},
   "source": [
    "## Loading data and define ROI (in pixels)"
   ]
  },
  {
   "cell_type": "code",
   "execution_count": null,
   "metadata": {},
   "outputs": [],
   "source": [
    "runID = 806653\n",
    "bgID = -1\n",
    "tiffStk = bgRemoval(runID, bgID)\n",
    "\n",
    "plt.figure()\n",
    "plt.imshow(tiffStk['before'], vmin=0, vmax=150000)\n",
    "plt.title('Run '+str(runID))\n",
    "\n",
    "plt.figure()\n",
    "plt.imshow(tiffStk['before'], vmin=0, vmax=200000)\n",
    "plt.title('Run '+str(runID))\n",
    "plt.xlim([180, 300])\n",
    "plt.ylim([750, 550])\n",
    "\n",
    "plt.figure()\n",
    "plt.imshow(tiffStk['before'], vmin=0, vmax=200000)\n",
    "plt.title('Run '+str(runID))\n",
    "plt.xlim([240, 260])\n",
    "plt.ylim([725, 700])"
   ]
  },
  {
   "cell_type": "code",
   "execution_count": null,
   "metadata": {},
   "outputs": [],
   "source": []
  },
  {
   "cell_type": "markdown",
   "metadata": {},
   "source": [
    "## Fitting to 2D Gaussian"
   ]
  },
  {
   "cell_type": "code",
   "execution_count": null,
   "metadata": {},
   "outputs": [],
   "source": [
    "img = tiffStk['before']\n",
    "ROI=[240, 260, 700, 725]\n",
    "\n",
    "x = np.arange(img.shape[1])\n",
    "y = np.arange(img.shape[0])\n",
    "\n",
    "params = guess_Gauss2D(x[240:260], y[700:725], img[700:725, 240:260])\n",
    "print('********** Initial guess **********')\n",
    "params"
   ]
  },
  {
   "cell_type": "code",
   "execution_count": null,
   "metadata": {},
   "outputs": [],
   "source": [
    "fit_params, _, _, _, _, _, _ = do_fit2D(x, y, img, Gauss2D, guess_Gauss2D, ROI=ROI, verbose=True, plotFit=True)\n",
    "print('********** Fitted **********')\n",
    "fit_params"
   ]
  },
  {
   "cell_type": "code",
   "execution_count": null,
   "metadata": {},
   "outputs": [],
   "source": []
  },
  {
   "cell_type": "markdown",
   "metadata": {},
   "source": [
    "## Fitting to 2D Lorentzian"
   ]
  },
  {
   "cell_type": "code",
   "execution_count": null,
   "metadata": {},
   "outputs": [],
   "source": [
    "img = tiffStk['before']\n",
    "ROI=[240, 260, 700, 725]\n",
    "\n",
    "x = np.arange(img.shape[1])\n",
    "y = np.arange(img.shape[0])\n",
    "\n",
    "param = guess_Lor2D(x[240:260], y[700:725], img[700:725, 240:260])\n",
    "print('********** Initial guess **********')\n",
    "param"
   ]
  },
  {
   "cell_type": "code",
   "execution_count": null,
   "metadata": {},
   "outputs": [],
   "source": [
    "fit_params, _, _, _, _, _, _ = do_fit2D(x, y, img, Lor2D, guess_Lor2D, ROI=ROI, verbose=True, plotFit=True)\n",
    "print('********** Fitted **********')\n",
    "fit_params"
   ]
  },
  {
   "cell_type": "code",
   "execution_count": null,
   "metadata": {},
   "outputs": [],
   "source": []
  },
  {
   "cell_type": "markdown",
   "metadata": {},
   "source": [
    "## Conclusion\n",
    "\n",
    "In the case of the CTR, the anisotropic Gaussian is a better choice. For other short-range orders, we may wish to consider 2D Lorentzian. If an isotropic Gaussian/Lorentzian is needed, new code is needed."
   ]
  },
  {
   "cell_type": "code",
   "execution_count": null,
   "metadata": {},
   "outputs": [],
   "source": []
  }
 ],
 "metadata": {
  "kernelspec": {
   "display_name": "Python 3.8.13 ('iex2')",
   "language": "python",
   "name": "python3"
  },
  "language_info": {
   "codemirror_mode": {
    "name": "ipython",
    "version": 3
   },
   "file_extension": ".py",
   "mimetype": "text/x-python",
   "name": "python",
   "nbconvert_exporter": "python",
   "pygments_lexer": "ipython3",
   "version": "3.8.13"
  },
  "vscode": {
   "interpreter": {
    "hash": "a241587d8dd9b3fea292d8f9bba71c665acd5261aa5e24d6b31e5ea0c22552e0"
   }
  }
 },
 "nbformat": 4,
 "nbformat_minor": 4
}
