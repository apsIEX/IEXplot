{
 "cells": [
  {
   "cell_type": "code",
   "execution_count": null,
   "metadata": {},
   "outputs": [],
   "source": [
    "%matplotlib nbagg"
   ]
  },
  {
   "cell_type": "code",
   "execution_count": null,
   "metadata": {},
   "outputs": [],
   "source": [
    "import matplotlib.pyplot as plt\n",
    "\n",
    "# importing the workhorse\n",
    "import numpy as np\n",
    "\n",
    "from xdrlib import *\n",
    "\n",
    "import iexplot\n"
   ]
  },
  {
   "cell_type": "markdown",
   "metadata": {},
   "source": [
    "## Getting information from a mda file"
   ]
  },
  {
   "cell_type": "code",
   "execution_count": null,
   "metadata": {},
   "outputs": [],
   "source": [
    "# Open file as a binary file\n",
    "fMDA = open('26idbSOFT_0217.mda', 'rb')\n",
    "\n",
    "# Read the entire file, and unpack it\n",
    "buf = fMDA.read()\n",
    "u = Unpacker(buf)\n",
    "\n",
    "# read file header\n",
    "version = u.unpack_float()\n",
    "scan_number = u.unpack_int()\n",
    "rank = u.unpack_int()\n",
    "dimensions = u.unpack_farray(rank, u.unpack_int)\n",
    "isRegular = u.unpack_int()\n",
    "pExtra = u.unpack_int()\n",
    "pmain_scan = fMDA.tell() - (len(buf) - u.get_position())"
   ]
  },
  {
   "cell_type": "markdown",
   "metadata": {},
   "source": [
    "## Using the loader from the APS website"
   ]
  },
  {
   "cell_type": "code",
   "execution_count": null,
   "metadata": {},
   "outputs": [],
   "source": [
    "mdata = iexplot.readMDA('26idbSOFT_0050.mda')\n",
    "mdata"
   ]
  },
  {
   "cell_type": "code",
   "execution_count": null,
   "metadata": {},
   "outputs": [],
   "source": [
    "mdata = iexplot.readMDA('26idbSOFT_0217.mda')\n",
    "mdata"
   ]
  },
  {
   "cell_type": "code",
   "execution_count": null,
   "metadata": {},
   "outputs": [],
   "source": [
    "# Get the total number of dimensions, positioners and detectors\n",
    "dim = mdata[0]['dimensions']\n",
    "numPositioner = len(mdata[-1].p)\n",
    "numDet = len(mdata[-1].d)\n",
    "numTrigger = len(mdata[-1].t)"
   ]
  },
  {
   "cell_type": "code",
   "execution_count": null,
   "metadata": {},
   "outputs": [],
   "source": [
    "# Get the name of a positioner / detector\n",
    "mdata[1].p[0].name"
   ]
  },
  {
   "cell_type": "code",
   "execution_count": null,
   "metadata": {},
   "outputs": [],
   "source": [
    "# Get the name of a positioner / detector\n",
    "mdata[-1].t[-1].name"
   ]
  },
  {
   "cell_type": "code",
   "execution_count": null,
   "metadata": {},
   "outputs": [],
   "source": [
    "# Get the date of a positioner / detector\n",
    "data = np.array(mdata[-1].d[-1].data)\n",
    "plt.imshow(data)"
   ]
  },
  {
   "cell_type": "markdown",
   "metadata": {},
   "source": [
    "## Using the loader"
   ]
  },
  {
   "cell_type": "code",
   "execution_count": null,
   "metadata": {},
   "outputs": [],
   "source": [
    "outPV = iexplot.readMDA('26idbSOFT_0050.mda')"
   ]
  },
  {
   "cell_type": "code",
   "execution_count": null,
   "metadata": {},
   "outputs": [],
   "source": [
    "plt.figure()\n",
    "plt.plot(outPV['P2: 26idcDET:base:Theta.VAL'], outPV['D7: QMPX3:Stats1:Total_RBV'], 'ro-')\n",
    "plt.xlabel('P2: 26idcDET:base:Theta.VAL')"
   ]
  },
  {
   "cell_type": "code",
   "execution_count": null,
   "metadata": {},
   "outputs": [],
   "source": [
    "outPV = iexplot.readMDA('26idbSOFT_0217.mda')"
   ]
  },
  {
   "cell_type": "code",
   "execution_count": null,
   "metadata": {},
   "outputs": [],
   "source": [
    "plt.figure()\n",
    "plt.imshow(outPV['D9: QMPX3:Stats3:Total_RBV'])\n",
    "plt.gca().set_aspect('equal')"
   ]
  },
  {
   "cell_type": "markdown",
   "metadata": {},
   "source": [
    "The following fig has not corrected for the theta projection yet."
   ]
  },
  {
   "cell_type": "code",
   "execution_count": null,
   "metadata": {},
   "outputs": [],
   "source": [
    "fig, ax = plt.subplots(1,2)\n",
    "ax[0].pcolormesh(outPV['P2: 26idcnpi:X_HYBRID_SP.VAL'], outPV['P1: 26idcnpi:Y_HYBRID_SP.VAL'], \n",
    "               outPV['D9: QMPX3:Stats3:Total_RBV'])\n",
    "ax[0].set_aspect('equal')\n",
    "\n",
    "ax[1].pcolormesh(outPV['P2: 26idcnpi:X_HYBRID_SP.VAL'], outPV['P1: 26idcnpi:Y_HYBRID_SP.VAL'], \n",
    "               outPV['D26: 26idcXMAP:mca8.R4'])\n",
    "ax[1].set_aspect('equal')"
   ]
  },
  {
   "cell_type": "code",
   "execution_count": null,
   "metadata": {},
   "outputs": [],
   "source": []
  }
 ],
 "metadata": {
  "kernelspec": {
   "display_name": "Python 3.8.13 ('iex2')",
   "language": "python",
   "name": "python3"
  },
  "language_info": {
   "codemirror_mode": {
    "name": "ipython",
    "version": 3
   },
   "file_extension": ".py",
   "mimetype": "text/x-python",
   "name": "python",
   "nbconvert_exporter": "python",
   "pygments_lexer": "ipython3",
   "version": "3.8.13"
  },
  "vscode": {
   "interpreter": {
    "hash": "a241587d8dd9b3fea292d8f9bba71c665acd5261aa5e24d6b31e5ea0c22552e0"
   }
  }
 },
 "nbformat": 4,
 "nbformat_minor": 4
}
